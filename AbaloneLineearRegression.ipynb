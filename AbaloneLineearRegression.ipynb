{
  "nbformat": 4,
  "nbformat_minor": 0,
  "metadata": {
    "colab": {
      "name": "AbaloneLineearRegression.ipynb",
      "provenance": [],
      "authorship_tag": "ABX9TyNuevP1noKp2/mJ7OoJzg+u",
      "include_colab_link": true
    },
    "kernelspec": {
      "name": "python3",
      "display_name": "Python 3"
    },
    "language_info": {
      "name": "python"
    }
  },
  "cells": [
    {
      "cell_type": "markdown",
      "metadata": {
        "id": "view-in-github",
        "colab_type": "text"
      },
      "source": [
        "<a href=\"https://colab.research.google.com/github/TanChen168/Week5_PreProcessing/blob/main/AbaloneLineearRegression.ipynb\" target=\"_parent\"><img src=\"https://colab.research.google.com/assets/colab-badge.svg\" alt=\"Open In Colab\"/></a>"
      ]
    },
    {
      "cell_type": "code",
      "execution_count": 75,
      "metadata": {
        "colab": {
          "base_uri": "https://localhost:8080/"
        },
        "id": "BYB4cL3o7P20",
        "outputId": "928963d3-e264-4a6a-8813-816082ac112c"
      },
      "outputs": [
        {
          "output_type": "stream",
          "name": "stdout",
          "text": [
            "<class 'pandas.core.frame.DataFrame'>\n",
            "RangeIndex: 4177 entries, 0 to 4176\n",
            "Data columns (total 9 columns):\n",
            " #   Column         Non-Null Count  Dtype  \n",
            "---  ------         --------------  -----  \n",
            " 0   Sex            4177 non-null   object \n",
            " 1   Length         4177 non-null   float64\n",
            " 2   Diameter       4177 non-null   float64\n",
            " 3   Height         4177 non-null   float64\n",
            " 4   WholeWeight    4177 non-null   float64\n",
            " 5   ShuckedWeight  4177 non-null   float64\n",
            " 6   VisceraWeight  4177 non-null   float64\n",
            " 7   ShellWeight    4177 non-null   float64\n",
            " 8   Rings          4177 non-null   int64  \n",
            "dtypes: float64(7), int64(1), object(1)\n",
            "memory usage: 293.8+ KB\n"
          ]
        }
      ],
      "source": [
        "import pandas as pd\n",
        "\n",
        "filename = '/content/sample_data/abalone.data'\n",
        "\n",
        "df = pd.read_csv(filename, names=['Sex', 'Length', 'Diameter', 'Height', 'WholeWeight' , 'ShuckedWeight', 'VisceraWeight', 'ShellWeight', 'Rings'])\n",
        "df.info()"
      ]
    },
    {
      "cell_type": "markdown",
      "source": [
        "1) Separate your data into the features matrix (X) and target vector (y)."
      ],
      "metadata": {
        "id": "vlonM3P8HjmX"
      }
    },
    {
      "cell_type": "code",
      "source": [
        "# The target we are trying to predict\n",
        "y = df['Rings']\n",
        "# The features we will use to make the prediction\n",
        "X = df.drop(columns = 'Rings')"
      ],
      "metadata": {
        "id": "hnPjT2aqHtVB"
      },
      "execution_count": 76,
      "outputs": []
    },
    {
      "cell_type": "markdown",
      "source": [
        "2) Create a train, test, split on the data. Please use random number 42 for consistency."
      ],
      "metadata": {
        "id": "IExgMAqOHoeH"
      }
    },
    {
      "cell_type": "code",
      "source": [
        "\n",
        "\n",
        "# Import the TTS from sklearn\n",
        "from sklearn.model_selection import train_test_split\n",
        "# Train test split \n",
        "X_train, X_test, y_train, y_test = train_test_split(X, y, random_state=42)"
      ],
      "metadata": {
        "id": "5deHYrMD7zZU"
      },
      "execution_count": 77,
      "outputs": []
    },
    {
      "cell_type": "code",
      "source": [
        "# Imports\n",
        "from sklearn.pipeline import make_pipeline\n",
        "from sklearn.compose import make_column_selector, make_column_transformer\n",
        "from sklearn.impute import SimpleImputer\n",
        "from sklearn.preprocessing import OneHotEncoder\n",
        "from sklearn.preprocessing import StandardScaler\n",
        "from sklearn.linear_model import LinearRegression\n"
      ],
      "metadata": {
        "id": "wrAqM8TJ9Dcl"
      },
      "execution_count": 78,
      "outputs": []
    },
    {
      "cell_type": "markdown",
      "source": [
        "3) Make a pipeline to include the 1) column transformations and  a 2) and your linear regression model.   "
      ],
      "metadata": {
        "id": "MFrkXUoSH-Cy"
      }
    },
    {
      "cell_type": "markdown",
      "source": [
        "a) Use column_selector to select the categorical columns and the numerical columns"
      ],
      "metadata": {
        "id": "8PDozHa6IDp5"
      }
    },
    {
      "cell_type": "code",
      "source": [
        "#make categorical and numeric selectors\n",
        "num_selector = make_column_selector(dtype_include='number')\n",
        "cat_selector = make_column_selector(dtype_include='object')\n",
        "\n",
        "#instantiate preprocessing objects\n",
        "median_imputer = SimpleImputer(strategy = 'median')\n",
        "freq_imputer = SimpleImputer(strategy = 'most_frequent')\n",
        "scaler = StandardScaler()\n",
        "ohe_encoder = OneHotEncoder(sparse=False, handle_unknown='ignore')"
      ],
      "metadata": {
        "id": "HoZRpkp19Tk8"
      },
      "execution_count": 79,
      "outputs": []
    },
    {
      "cell_type": "markdown",
      "source": [
        "b) Use column_transformer to match the transformation to the type of column"
      ],
      "metadata": {
        "id": "cVN6o9upIOaT"
      }
    },
    {
      "cell_type": "code",
      "source": [
        "# This is the pipeline for numeric columns\n",
        "num_pipe = make_pipeline(median_imputer, scaler)\n",
        "# This is the pipeline for categorical columns\n",
        "cat_pipe = make_pipeline(freq_imputer, ohe_encoder)\n",
        "\n",
        "num_tuple = (num_pipe, num_selector)\n",
        "cat_tuple = (cat_pipe, cat_selector)\n",
        "\n",
        "column_transformer = make_column_transformer(num_tuple, cat_tuple)\n",
        "column_transformer.fit(X_train)\n",
        "\n",
        "X_train_processed = column_transformer.transform(X_train)\n",
        "X_test_processed = column_transformer.transform(X_test)\n",
        "\n",
        "# Make a linear regression instance\n",
        "# reg = LinearRegression()\n",
        "# reg.fit(X_train_processed, y_train)\n",
        "# train_score = reg.score(X_train_processed, y_train)\n",
        "# print(train_score)\n",
        "# test_score = reg.score(X_test_processed, y_test)\n",
        "# print(test_score)\n",
        "\n",
        "#X_test_processed"
      ],
      "metadata": {
        "id": "7dCfvjjl_fJ3"
      },
      "execution_count": 80,
      "outputs": []
    },
    {
      "cell_type": "markdown",
      "source": [
        "4) Instantiate make_pipeline()"
      ],
      "metadata": {
        "id": "uzbXcdjXISb_"
      }
    },
    {
      "cell_type": "code",
      "source": [
        "from sklearn.linear_model import LinearRegression\n",
        "from sklearn.pipeline import make_pipeline\n",
        "\n",
        "# Make a linear regression instance\n",
        "lin_reg = LinearRegression()\n",
        "# combine into a pipeline\n",
        "lin_reg_pipe = make_pipeline(column_transformer, lin_reg)"
      ],
      "metadata": {
        "id": "poSwXWKW9gyb"
      },
      "execution_count": 81,
      "outputs": []
    },
    {
      "cell_type": "markdown",
      "source": [
        "5) Fit your pipeline on the training data"
      ],
      "metadata": {
        "id": "uXbASYYmIeQs"
      }
    },
    {
      "cell_type": "code",
      "source": [
        "lin_reg_pipe.fit(X_train, y_train)"
      ],
      "metadata": {
        "colab": {
          "base_uri": "https://localhost:8080/"
        },
        "id": "pCUZLM0vIiDH",
        "outputId": "d9794c86-9434-4d0c-b1cf-d14d93b0ba54"
      },
      "execution_count": 82,
      "outputs": [
        {
          "output_type": "execute_result",
          "data": {
            "text/plain": [
              "Pipeline(steps=[('columntransformer',\n",
              "                 ColumnTransformer(transformers=[('pipeline-1',\n",
              "                                                  Pipeline(steps=[('simpleimputer',\n",
              "                                                                   SimpleImputer(strategy='median')),\n",
              "                                                                  ('standardscaler',\n",
              "                                                                   StandardScaler())]),\n",
              "                                                  <sklearn.compose._column_transformer.make_column_selector object at 0x7f2b152b8b10>),\n",
              "                                                 ('pipeline-2',\n",
              "                                                  Pipeline(steps=[('simpleimputer',\n",
              "                                                                   SimpleImputer(strategy='most_frequent')),\n",
              "                                                                  ('onehotencoder',\n",
              "                                                                   OneHotEncoder(handle_unknown='ignore',\n",
              "                                                                                 sparse=False))]),\n",
              "                                                  <sklearn.compose._column_transformer.make_column_selector object at 0x7f2b152b86d0>)])),\n",
              "                ('linearregression', LinearRegression())])"
            ]
          },
          "metadata": {},
          "execution_count": 82
        }
      ]
    },
    {
      "cell_type": "markdown",
      "source": [
        "6) Find the R^2 value of your model for both the training and test sets"
      ],
      "metadata": {
        "id": "ibBzpb3MIkx3"
      }
    },
    {
      "cell_type": "code",
      "source": [
        "# evaluate model\n",
        "from sklearn.metrics import r2_score\n",
        "print(f'Train R2: {r2_score(y_train, pipe.predict(X_train_processed))}')\n",
        "print(f'Test R2: {r2_score(y_test, pipe.predict(X_test_processed))}')"
      ],
      "metadata": {
        "colab": {
          "base_uri": "https://localhost:8080/"
        },
        "id": "c1s6QK1J-sUk",
        "outputId": "fc498018-d655-449d-a56d-322fd03297be"
      },
      "execution_count": 83,
      "outputs": [
        {
          "output_type": "stream",
          "name": "stdout",
          "text": [
            "Train R2: 1.0\n",
            "Test R2: -0.2502048398569445\n"
          ]
        }
      ]
    },
    {
      "cell_type": "code",
      "source": [
        "train_score = reg.score(X_train_processed, y_train)\n",
        "print(train_score)\n",
        "test_score = reg.score(X_test_processed, y_test)\n",
        "print(test_score)"
      ],
      "metadata": {
        "colab": {
          "base_uri": "https://localhost:8080/"
        },
        "id": "DOwdDYk7EEG3",
        "outputId": "f890f032-7342-4636-f1ac-ffb9c483182e"
      },
      "execution_count": 84,
      "outputs": [
        {
          "output_type": "stream",
          "name": "stdout",
          "text": [
            "0.5344827192989167\n",
            "0.5454718270324015\n"
          ]
        }
      ]
    },
    {
      "cell_type": "code",
      "source": [
        ""
      ],
      "metadata": {
        "id": "EvWjAy3hEFux"
      },
      "execution_count": null,
      "outputs": []
    }
  ]
}